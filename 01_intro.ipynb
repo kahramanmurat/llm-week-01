{
 "cells": [
  {
   "cell_type": "code",
   "execution_count": 1,
   "id": "aea501da-cc27-40ed-aa34-312ddd669c7c",
   "metadata": {},
   "outputs": [],
   "source": [
    "import openai"
   ]
  },
  {
   "cell_type": "code",
   "execution_count": 2,
   "id": "c1695dfc-1400-4aa0-b617-4d8da341a466",
   "metadata": {},
   "outputs": [],
   "source": [
    "from openai import OpenAI"
   ]
  },
  {
   "cell_type": "code",
   "execution_count": 3,
   "id": "ea81e46c-bcf7-4f59-8a85-77f923d009d9",
   "metadata": {},
   "outputs": [],
   "source": [
    "client=OpenAI()"
   ]
  },
  {
   "cell_type": "code",
   "execution_count": 5,
   "id": "4dfb12dc-b1bd-4e2a-a5a4-b4d97240b081",
   "metadata": {},
   "outputs": [
    {
     "data": {
      "text/plain": [
       "ChatCompletion(id='chatcmpl-9qvfuccNMYs0KwyucMTtzO4N9gViq', choices=[Choice(finish_reason='stop', index=0, logprobs=None, message=ChatCompletionMessage(content=\"It depends on the specific course and its policies. Some courses allow late enrollment, while others have strict deadlines. You may also need to consider whether you'll be able to catch up on missed material. Check with the course provider or instructor to understand their specific enrollment policies and any potential consequences of joining late.\", role='assistant', function_call=None, tool_calls=None))], created=1722401786, model='gpt-4o-2024-05-13', object='chat.completion', service_tier=None, system_fingerprint='fp_4e2b2da518', usage=CompletionUsage(completion_tokens=60, prompt_tokens=16, total_tokens=76))"
      ]
     },
     "execution_count": 5,
     "metadata": {},
     "output_type": "execute_result"
    }
   ],
   "source": [
    "response=client.chat.completions.create(\n",
    "    model=\"gpt-4o\",\n",
    "    messages=[{\"role\":\"user\",\n",
    "             \"content\":\"is it too late to join the course?\"}]\n",
    ")\n",
    "\n",
    "response"
   ]
  },
  {
   "cell_type": "code",
   "execution_count": 7,
   "id": "9501a5e6-41ac-4635-8ca5-83215061e3aa",
   "metadata": {},
   "outputs": [
    {
     "data": {
      "text/plain": [
       "\"It depends on the specific course and its policies. Some courses allow late enrollment, while others have strict deadlines. You may also need to consider whether you'll be able to catch up on missed material. Check with the course provider or instructor to understand their specific enrollment policies and any potential consequences of joining late.\""
      ]
     },
     "execution_count": 7,
     "metadata": {},
     "output_type": "execute_result"
    }
   ],
   "source": [
    "response.choices[0].message.content"
   ]
  },
  {
   "cell_type": "code",
   "execution_count": null,
   "id": "1b1a8b0d-bc0e-40ad-b5a7-9332927e0d0b",
   "metadata": {},
   "outputs": [],
   "source": []
  }
 ],
 "metadata": {
  "kernelspec": {
   "display_name": "Python 3 (ipykernel)",
   "language": "python",
   "name": "python3"
  },
  "language_info": {
   "codemirror_mode": {
    "name": "ipython",
    "version": 3
   },
   "file_extension": ".py",
   "mimetype": "text/x-python",
   "name": "python",
   "nbconvert_exporter": "python",
   "pygments_lexer": "ipython3",
   "version": "3.10.13"
  }
 },
 "nbformat": 4,
 "nbformat_minor": 5
}
