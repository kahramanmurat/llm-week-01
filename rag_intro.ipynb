{
 "cells": [
  {
   "cell_type": "code",
   "execution_count": 42,
   "id": "316b8414-dd7d-4fff-87e5-608f38165dc7",
   "metadata": {},
   "outputs": [],
   "source": [
    "import min_search\n",
    "import json"
   ]
  },
  {
   "cell_type": "code",
   "execution_count": 43,
   "id": "b30d3117-acc3-46c1-a4d2-81a216455d39",
   "metadata": {},
   "outputs": [],
   "source": [
    "with open('documents.json','rt') as f_in:\n",
    "    doc_raw=json.load(f_in)"
   ]
  },
  {
   "cell_type": "code",
   "execution_count": 45,
   "id": "1d6c6a39-fd2c-4d4d-a409-f0d86197408f",
   "metadata": {},
   "outputs": [],
   "source": [
    "documents=[]\n",
    "\n",
    "for course_dict in doc_raw:\n",
    "    for doc in  course_dict['documents']:\n",
    "        doc['course']=course_dict['course']\n",
    "        documents.append(doc)"
   ]
  },
  {
   "cell_type": "code",
   "execution_count": 46,
   "id": "5d80ead2-3bd1-49b8-9a08-39bbd9bc8175",
   "metadata": {},
   "outputs": [
    {
     "data": {
      "text/plain": [
       "{'text': \"dThe purpose of this document is to capture frequently asked technical questions\\nThe next cohort starts in Jan 2025. More info at DTC Article.\\nRegister before the course starts using this link.\\nJoin the course Telegram channel with announcements.\\nDon’t forget to register in DataTalks.Club's Slack and join the channel.\",\n",
       " 'section': 'General course-related questions',\n",
       " 'question': 'Course - When will the course start？',\n",
       " 'course': 'data-engineering-zoomcamp'}"
      ]
     },
     "execution_count": 46,
     "metadata": {},
     "output_type": "execute_result"
    }
   ],
   "source": [
    "documents[0]"
   ]
  },
  {
   "cell_type": "code",
   "execution_count": 49,
   "id": "a5b2d4f6-b348-4eb6-9404-fc16c7c6f321",
   "metadata": {},
   "outputs": [
    {
     "data": {
      "text/plain": [
       "<min_search.Index at 0x7323dc60bd60>"
      ]
     },
     "execution_count": 49,
     "metadata": {},
     "output_type": "execute_result"
    }
   ],
   "source": [
    "min_search.Index(\n",
    "    text_fields=['question','text','section'],\n",
    "    keyword_fields=['course'])"
   ]
  },
  {
   "cell_type": "code",
   "execution_count": 50,
   "id": "9be1ccc7-b935-492d-8e30-c1b27019c1dd",
   "metadata": {},
   "outputs": [
    {
     "data": {
      "text/plain": [
       "<min_search.Index at 0x7323dc90bb80>"
      ]
     },
     "execution_count": 50,
     "metadata": {},
     "output_type": "execute_result"
    }
   ],
   "source": [
    "index.fit(documents)"
   ]
  },
  {
   "cell_type": "code",
   "execution_count": 51,
   "id": "928bc534-fb14-43d1-a296-78ccd009a712",
   "metadata": {},
   "outputs": [],
   "source": [
    "q='the course already started. Can i still enroll?'"
   ]
  },
  {
   "cell_type": "code",
   "execution_count": 52,
   "id": "2ffa7df9-eb38-4044-81ba-17bb7c8f1e08",
   "metadata": {},
   "outputs": [],
   "source": [
    "boost={'question':3.0,'section':0.5}\n",
    "\n",
    "results=index.search(\n",
    "    query=q,\n",
    "    boost_dict=boost,\n",
    "    num_results=5\n",
    ")"
   ]
  },
  {
   "cell_type": "code",
   "execution_count": 53,
   "id": "7598df1c-b969-4d82-be42-610bbc1e0448",
   "metadata": {},
   "outputs": [
    {
     "data": {
      "text/plain": [
       "[{'text': 'Yes, you can. You won’t be able to submit some of the homeworks, but you can still take part in the course.\\nIn order to get a certificate, you need to submit 2 out of 3 course projects and review 3 peers’ Projects by the deadline. It means that if you join the course at the end of November and manage to work on two projects, you will still be eligible for a certificate.',\n",
       "  'section': 'General course-related question',\n",
       "  'question': 'The course has already started. Can I still join it?',\n",
       "  'course': 'machine-learning-zoomcamp'},\n",
       " {'text': \"Yes, even if you don't register, you're still eligible to submit the homeworks as long as the form is still open and accepting submissions.\\nBe aware, however, that there will be deadlines for turning in the final projects. So don't leave everything to the last minute.\",\n",
       "  'section': 'General course questions',\n",
       "  'question': 'Course - Can I still join the course after the start date?',\n",
       "  'course': 'mlops-zoomcamp'},\n",
       " {'text': \"Yes, even if you don't register, you're still eligible to submit the homeworks.\\nBe aware, however, that there will be deadlines for turning in the final projects. So don't leave everything for the last minute.\",\n",
       "  'section': 'General course-related questions',\n",
       "  'question': 'Course - Can I still join the course after the start date?',\n",
       "  'course': 'data-engineering-zoomcamp'},\n",
       " {'text': 'To clarify on \"Late homework submissions\": we cannot submit after the homework is scored as the form is closed.\\nOnce the form is closed (aka Scored), no further submissions are possible. So, then no \"late homework submissions\" allowed after the form is closed and not editable. You can check your code against the solution (check the homework.md) file.\\nIf the due date has passed, but the form is still Open / Submitted, this is what I term \"late homework submissions\", the form is still editable. Don’t forget to click the Update button with your changes!\\nSo, we\\'re on borrowed time and we have no way of knowing when Alexey would close the form (the process is still manual at this time).',\n",
       "  'section': 'General course questions',\n",
       "  'question': 'Q : just found this course, can I still submit homeworks?',\n",
       "  'course': 'mlops-zoomcamp'},\n",
       " {'text': 'Yes, we will keep all the materials after the course finishes, so you can follow the course at your own pace after it finishes.\\nYou can also continue looking at the homeworks and continue preparing for the next cohort. I guess you can also start working on your final capstone project.',\n",
       "  'section': 'General course-related questions',\n",
       "  'question': 'Course - Can I follow the course after it finishes?',\n",
       "  'course': 'data-engineering-zoomcamp'}]"
      ]
     },
     "execution_count": 53,
     "metadata": {},
     "output_type": "execute_result"
    }
   ],
   "source": [
    "results"
   ]
  },
  {
   "cell_type": "code",
   "execution_count": 54,
   "id": "3261079e-240d-4a74-962c-f2a9c56374a9",
   "metadata": {},
   "outputs": [],
   "source": [
    "from openai import OpenAI"
   ]
  },
  {
   "cell_type": "code",
   "execution_count": 55,
   "id": "dd2ffe47-f654-492f-877f-3e4aaea70e15",
   "metadata": {},
   "outputs": [],
   "source": [
    "client=OpenAI()"
   ]
  },
  {
   "cell_type": "code",
   "execution_count": 57,
   "id": "1c03ba61-0caf-4b28-9a75-a9e5c6fab92f",
   "metadata": {},
   "outputs": [],
   "source": [
    "response=client.chat.completions.create(\n",
    "    model='gpt-4o',\n",
    "    messages=[{'role':'user','content':q}]\n",
    ")"
   ]
  },
  {
   "cell_type": "code",
   "execution_count": 63,
   "id": "e9f17928-ea88-4195-828f-4759a91aa22f",
   "metadata": {},
   "outputs": [
    {
     "data": {
      "text/plain": [
       "\"It depends on the specific course and the institution offering it. Here are a few steps you can take to find out if you can still enroll:\\n\\n1. **Check the Enrollment Policy:** Review the course description or the institution's website for information about late enrollment policies.\\n\\n2. **Contact the Instructor or Administration:** Reach out directly to the course instructor or the administrative office. Explain your situation and ask if it is still possible to enroll.\\n\\n3. **Consider Self-Paced or Rolling Admissions Courses:** Some institutions offer self-paced courses or have rolling admissions, which might give you more flexibility for late enrollment.\\n\\n4. **Catch Up on Missed Material:** If late enrollment is allowed, ask the instructor for guidance on how to catch up on any material you've missed so far.\\n\\nIf you explain your situation and show a strong interest in the course, many instructors and institutions are willing to accommodate late enrollments. Good luck!\""
      ]
     },
     "execution_count": 63,
     "metadata": {},
     "output_type": "execute_result"
    }
   ],
   "source": [
    "response.choices[0].message.content"
   ]
  },
  {
   "cell_type": "code",
   "execution_count": 74,
   "id": "1331abcd-cea9-486a-9e49-b8e95c144021",
   "metadata": {},
   "outputs": [],
   "source": [
    "prompt_template=\"\"\"\n",
    "You're a course teaching assistant. Answer the QUESTION based on the CONTEXT from the FAQ database. \n",
    "Use only the facts from CONTEXT when answering the QUESTION\n",
    "If the CONTEXT doesn't contain the answer, output NONE\n",
    "\n",
    "QUESTION: {question}\n",
    "\n",
    "CONTEXT:\n",
    "{context}\n",
    "\n",
    "\"\"\".strip()"
   ]
  },
  {
   "cell_type": "code",
   "execution_count": 70,
   "id": "2474a65b-432c-4eb6-9528-56819fc9ed27",
   "metadata": {},
   "outputs": [],
   "source": [
    "context=\"\"\n",
    "\n",
    "for doc in results:\n",
    "    context=context+f\"section: {doc['section']}\\nquestion: {doc['question']}\\nanswer: {doc['text']}\\n\\n\""
   ]
  },
  {
   "cell_type": "code",
   "execution_count": 82,
   "id": "1c7dd841-c103-40dc-ae94-db3762c6741a",
   "metadata": {},
   "outputs": [],
   "source": [
    "prompt=prompt_template.format(question=q,context=context).strip()"
   ]
  },
  {
   "cell_type": "code",
   "execution_count": 83,
   "id": "8404942d-1015-437a-80b2-ed4e7c688816",
   "metadata": {},
   "outputs": [
    {
     "name": "stdout",
     "output_type": "stream",
     "text": [
      "You're a course teaching assistant. Answer the QUESTION based on the CONTEXT from the FAQ database. \n",
      "Use only the facts from CONTEXT when answering the QUESTION\n",
      "If the CONTEXT doesn't contain the answer, output NONE\n",
      "\n",
      "QUESTION: the course already started. Can i still enroll?\n",
      "\n",
      "CONTEXT:\n",
      "section: General course-related question\n",
      "question: The course has already started. Can I still join it?\n",
      "answer: Yes, you can. You won’t be able to submit some of the homeworks, but you can still take part in the course.\n",
      "In order to get a certificate, you need to submit 2 out of 3 course projects and review 3 peers’ Projects by the deadline. It means that if you join the course at the end of November and manage to work on two projects, you will still be eligible for a certificate.\n",
      "\n",
      "section: General course questions\n",
      "question: Course - Can I still join the course after the start date?\n",
      "answer: Yes, even if you don't register, you're still eligible to submit the homeworks as long as the form is still open and accepting submissions.\n",
      "Be aware, however, that there will be deadlines for turning in the final projects. So don't leave everything to the last minute.\n",
      "\n",
      "section: General course-related questions\n",
      "question: Course - Can I still join the course after the start date?\n",
      "answer: Yes, even if you don't register, you're still eligible to submit the homeworks.\n",
      "Be aware, however, that there will be deadlines for turning in the final projects. So don't leave everything for the last minute.\n",
      "\n",
      "section: General course questions\n",
      "question: Q : just found this course, can I still submit homeworks?\n",
      "answer: To clarify on \"Late homework submissions\": we cannot submit after the homework is scored as the form is closed.\n",
      "Once the form is closed (aka Scored), no further submissions are possible. So, then no \"late homework submissions\" allowed after the form is closed and not editable. You can check your code against the solution (check the homework.md) file.\n",
      "If the due date has passed, but the form is still Open / Submitted, this is what I term \"late homework submissions\", the form is still editable. Don’t forget to click the Update button with your changes!\n",
      "So, we're on borrowed time and we have no way of knowing when Alexey would close the form (the process is still manual at this time).\n",
      "\n",
      "section: General course-related questions\n",
      "question: Course - Can I follow the course after it finishes?\n",
      "answer: Yes, we will keep all the materials after the course finishes, so you can follow the course at your own pace after it finishes.\n",
      "You can also continue looking at the homeworks and continue preparing for the next cohort. I guess you can also start working on your final capstone project.\n"
     ]
    }
   ],
   "source": [
    "print(prompt)"
   ]
  },
  {
   "cell_type": "code",
   "execution_count": 86,
   "id": "de1d5709-4a9e-4790-a407-ef9241ae4ea9",
   "metadata": {},
   "outputs": [],
   "source": [
    "response=client.chat.completions.create(\n",
    "    model='gpt-4o',\n",
    "    messages=[{'role':'user','content':prompt}]\n",
    ")"
   ]
  },
  {
   "cell_type": "code",
   "execution_count": 88,
   "id": "655b06ac-5734-4797-86fd-b7843982180d",
   "metadata": {},
   "outputs": [
    {
     "name": "stdout",
     "output_type": "stream",
     "text": [
      "Yes, you can. You won’t be able to submit some of the homeworks, but you can still take part in the course. In order to get a certificate, you need to submit 2 out of 3 course projects and review 3 peers’ Projects by the deadline. \n",
      "\n",
      "Additionally, even if you don't register, you're still eligible to submit the homeworks as long as the form is still open and accepting submissions. Be aware, however, that there will be deadlines for turning in the final projects.\n"
     ]
    }
   ],
   "source": [
    "print(response.choices[0].message.content)"
   ]
  },
  {
   "cell_type": "code",
   "execution_count": 116,
   "id": "1374b1ee-9b94-481d-95b2-4ee45fd96247",
   "metadata": {},
   "outputs": [],
   "source": [
    "def search(query):\n",
    "\n",
    "    boost={'question':3.0,'section':0.5}\n",
    "    \n",
    "    results=index.search(\n",
    "        query=query,\n",
    "        filter_dict={'course':'data-engineering-zoomcamp'},\n",
    "        boost_dict=boost,\n",
    "        num_results=10\n",
    "    )\n",
    "    return results\n"
   ]
  },
  {
   "cell_type": "code",
   "execution_count": 117,
   "id": "00a7df6a-b1a0-4274-a100-01df308fa652",
   "metadata": {},
   "outputs": [],
   "source": [
    "def build_prompt(query,search_results):\n",
    "    prompt_template=\"\"\"\n",
    "    You're a course teaching assistant. Answer the QUESTION based on the CONTEXT from the FAQ database. \n",
    "    Use only the facts from CONTEXT when answering the QUESTION\n",
    "    \n",
    "    QUESTION: {question}\n",
    "    \n",
    "    CONTEXT:\n",
    "    {context}\n",
    "    \n",
    "    \"\"\".strip()\n",
    "    \n",
    "    context=\"\"\n",
    "    \n",
    "    for doc in search_results:\n",
    "        context=context+f\"section: {doc['section']}\\nquestion: {doc['question']}\\nanswer: {doc['text']}\\n\\n\"\n",
    "    \n",
    "    prompt=prompt_template.format(question=query,context=context).strip()\n",
    "    \n",
    "    return prompt"
   ]
  },
  {
   "cell_type": "code",
   "execution_count": 118,
   "id": "be21d13d-b3dc-408a-b5b1-29d3b8a5229f",
   "metadata": {},
   "outputs": [],
   "source": [
    "def llm(prompt):\n",
    "    response=client.chat.completions.create(\n",
    "        model='gpt-4o',\n",
    "        messages=[{'role':'user','content':prompt}])\n",
    "    return response.choices[0].message.content"
   ]
  },
  {
   "cell_type": "code",
   "execution_count": 124,
   "id": "3d5ab27a-7563-4b78-8307-593e52b32853",
   "metadata": {},
   "outputs": [],
   "source": [
    "query='how do i run the Kafka'\n",
    "def rag(query):\n",
    "    results=search(query)\n",
    "    prompt=build_prompt(query,results)\n",
    "    answer=llm(prompt)\n",
    "    return answer"
   ]
  },
  {
   "cell_type": "code",
   "execution_count": 125,
   "id": "9f8c1a80-2762-426e-8ead-71125d323579",
   "metadata": {},
   "outputs": [
    {
     "data": {
      "text/plain": [
       "\"To run Kafka, you need to follow the instructions based on your specific scenario:\\n\\n1. **Java Kafka**:\\n   - If you want to run a Kafka producer or consumer with a Java implementation, navigate to your project directory.\\n   - Use the command:\\n     ```bash\\n     java -cp build/libs/<jar_name>-1.0-SNAPSHOT.jar:out src/main/java/org/example/JsonProducer.java\\n     ```\\n\\n2. **Python Kafka**:\\n   - **Environment Setup**: If you're running Python scripts, such as `producer.py`, and encountering a module not found error:\\n     - Create a virtual environment and install the necessary packages using `requirements.txt`:\\n       ```bash\\n       python -m venv env\\n       source env/bin/activate\\n       pip install -r ../requirements.txt\\n       ```\\n     - To activate the virtual environment for subsequent uses:\\n       ```bash\\n       source env/bin/activate  # On Windows, use env/Scripts/activate\\n       ```\\n     - To deactivate it:\\n       ```bash\\n       deactivate\\n       ```\\n\\n3. **Docker Setup**:\\n   - If you encounter `kafka.errors.NoBrokersAvailable: NoBrokersAvailable`, your Kafka broker docker container might not be running.\\n     - Check running docker containers:\\n       ```bash\\n       docker ps\\n       ```\\n     - Start the necessary containers from the Docker Compose YAML file:\\n       ```bash\\n       docker compose up -d\\n       ```\\n\\n4. **Permission Issues with Scripts**:\\n   - If you get a permission denied error when trying to run scripts like `build.sh`:\\n     - Update the permissions for the script:\\n       ```bash\\n       chmod +x build.sh\\n       ```\\n\\nEnsure all prerequisite services (Kafka brokers, Zookeeper, etc.) are running correctly, and your environment is properly set up before starting your Kafka applications.\""
      ]
     },
     "execution_count": 125,
     "metadata": {},
     "output_type": "execute_result"
    }
   ],
   "source": [
    "rag(query)"
   ]
  },
  {
   "cell_type": "code",
   "execution_count": 126,
   "id": "89c1d253-016c-4f41-a522-43a52200c5b6",
   "metadata": {},
   "outputs": [
    {
     "data": {
      "text/plain": [
       "\"Yes, you can still join the course after the start date. Even if you don't register, you're eligible to submit the homeworks. Be aware, however, that there will be deadlines for turning in the final projects, so it's important not to leave everything for the last minute.\""
      ]
     },
     "execution_count": 126,
     "metadata": {},
     "output_type": "execute_result"
    }
   ],
   "source": [
    "rag('the course already started, how do i enroll?')"
   ]
  },
  {
   "cell_type": "code",
   "execution_count": 127,
   "id": "5f10b069-52a8-4f20-b05f-a3c84737c399",
   "metadata": {},
   "outputs": [],
   "source": [
    "from elasticsearch import Elasticsearch"
   ]
  },
  {
   "cell_type": "code",
   "execution_count": 128,
   "id": "66f26430-4754-4a4b-b510-9e1e345193da",
   "metadata": {},
   "outputs": [],
   "source": [
    "es_client=Elasticsearch('http://localhost:9200')"
   ]
  },
  {
   "cell_type": "code",
   "execution_count": 129,
   "id": "d217a33c-2c61-4222-88b0-d5f10715def9",
   "metadata": {},
   "outputs": [
    {
     "data": {
      "text/plain": [
       "ObjectApiResponse({'name': '6ca038f3194f', 'cluster_name': 'docker-cluster', 'cluster_uuid': 'zX6HTCrcSf-mQH0rUiaWOw', 'version': {'number': '8.4.3', 'build_flavor': 'default', 'build_type': 'docker', 'build_hash': '42f05b9372a9a4a470db3b52817899b99a76ee73', 'build_date': '2022-10-04T07:17:24.662462378Z', 'build_snapshot': False, 'lucene_version': '9.3.0', 'minimum_wire_compatibility_version': '7.17.0', 'minimum_index_compatibility_version': '7.0.0'}, 'tagline': 'You Know, for Search'})"
      ]
     },
     "execution_count": 129,
     "metadata": {},
     "output_type": "execute_result"
    }
   ],
   "source": [
    "es_client.info()"
   ]
  },
  {
   "cell_type": "code",
   "execution_count": 131,
   "id": "96e7f4a0-387c-4810-8ec2-675ae05bdeb3",
   "metadata": {},
   "outputs": [
    {
     "data": {
      "text/plain": [
       "ObjectApiResponse({'acknowledged': True, 'shards_acknowledged': True, 'index': 'course-questions'})"
      ]
     },
     "execution_count": 131,
     "metadata": {},
     "output_type": "execute_result"
    }
   ],
   "source": [
    "index_settings = {\n",
    "    \"settings\": {\n",
    "        \"number_of_shards\": 1,\n",
    "        \"number_of_replicas\": 0\n",
    "    },\n",
    "    \"mappings\": {\n",
    "        \"properties\": {\n",
    "            \"text\": {\"type\": \"text\"},\n",
    "            \"section\": {\"type\": \"text\"},\n",
    "            \"question\": {\"type\": \"text\"},\n",
    "            \"course\": {\"type\": \"keyword\"} \n",
    "        }\n",
    "    }\n",
    "}\n",
    "\n",
    "index_name = \"course-questions\"\n",
    "\n",
    "es_client.indices.create(\n",
    "    index=index_name,\n",
    "    body=index_settings  # use 'body' instead of 'settings'\n",
    ")\n"
   ]
  },
  {
   "cell_type": "code",
   "execution_count": 133,
   "id": "2547afa6-863d-430a-83a8-e3e6ef7f0829",
   "metadata": {},
   "outputs": [
    {
     "name": "stderr",
     "output_type": "stream",
     "text": [
      "/usr/local/python/3.10.13/lib/python3.10/site-packages/tqdm/auto.py:21: TqdmWarning: IProgress not found. Please update jupyter and ipywidgets. See https://ipywidgets.readthedocs.io/en/stable/user_install.html\n",
      "  from .autonotebook import tqdm as notebook_tqdm\n"
     ]
    }
   ],
   "source": [
    "from tqdm.auto import tqdm"
   ]
  },
  {
   "cell_type": "code",
   "execution_count": 134,
   "id": "61469784-4e76-465b-a3b4-aa5630bc29a1",
   "metadata": {},
   "outputs": [
    {
     "name": "stderr",
     "output_type": "stream",
     "text": [
      "100%|████████████████████████████████████████████████████████████████████████████████████████████████████████████████████████████████████████████████| 1026/1026 [00:31<00:00, 32.22it/s]\n"
     ]
    }
   ],
   "source": [
    "for doc in tqdm(documents):\n",
    "    es_client.index(index=index_name,document=doc)"
   ]
  },
  {
   "cell_type": "code",
   "execution_count": 135,
   "id": "295e2800-7b31-467a-ad7b-59e7e6e1f8ef",
   "metadata": {},
   "outputs": [],
   "source": [
    "query=\"I just discovered the course. Can i still enroll it?\""
   ]
  },
  {
   "cell_type": "code",
   "execution_count": 136,
   "id": "5776cbc4-a7a5-4010-97f6-c3f96db04581",
   "metadata": {},
   "outputs": [],
   "source": [
    "search_query={\n",
    "    \"size\": 5,\n",
    "    \"query\": {\n",
    "        \"bool\": {\n",
    "            \"must\": {\n",
    "                \"multi_match\": {\n",
    "                    \"query\": query,\n",
    "                    \"fields\": [\"question^3\", \"text\", \"section\"],\n",
    "                    \"type\": \"best_fields\"\n",
    "                }\n",
    "            },\n",
    "            \"filter\": {\n",
    "                \"term\": {\n",
    "                    \"course\": \"data-engineering-zoomcamp\"\n",
    "                }\n",
    "            }\n",
    "        }\n",
    "    }\n",
    "}"
   ]
  },
  {
   "cell_type": "code",
   "execution_count": 138,
   "id": "2489867e-89b7-4abb-aa05-01f018d5d126",
   "metadata": {},
   "outputs": [],
   "source": [
    "response=es_client.search(index=index_name,body=search_query)"
   ]
  },
  {
   "cell_type": "code",
   "execution_count": 141,
   "id": "2d414d15-8fd1-46b5-83ef-1c49c76d3f0d",
   "metadata": {},
   "outputs": [],
   "source": [
    "results_doc=[]\n",
    "for hit in response['hits']['hits']:\n",
    "    results_doc.append(hit['_source'])"
   ]
  },
  {
   "cell_type": "code",
   "execution_count": 142,
   "id": "e37f22b9-6a5a-4ba3-8710-6ebc03e3be25",
   "metadata": {},
   "outputs": [
    {
     "data": {
      "text/plain": [
       "[{'text': \"Yes, even if you don't register, you're still eligible to submit the homeworks.\\nBe aware, however, that there will be deadlines for turning in the final projects. So don't leave everything for the last minute.\",\n",
       "  'section': 'General course-related questions',\n",
       "  'question': 'Course - Can I still join the course after the start date?',\n",
       "  'course': 'data-engineering-zoomcamp'},\n",
       " {'text': 'Yes, we will keep all the materials after the course finishes, so you can follow the course at your own pace after it finishes.\\nYou can also continue looking at the homeworks and continue preparing for the next cohort. I guess you can also start working on your final capstone project.',\n",
       "  'section': 'General course-related questions',\n",
       "  'question': 'Course - Can I follow the course after it finishes?',\n",
       "  'course': 'data-engineering-zoomcamp'},\n",
       " {'text': 'You can start by installing and setting up all the dependencies and requirements:\\nGoogle cloud account\\nGoogle Cloud SDK\\nPython 3 (installed with Anaconda)\\nGit\\nLook over the prerequisites and syllabus to see if you are comfortable with these subjects.',\n",
       "  'section': 'General course-related questions',\n",
       "  'question': 'Course - What can I do before the course starts?',\n",
       "  'course': 'data-engineering-zoomcamp'},\n",
       " {'text': 'Yes, the slack channel remains open and you can ask questions there. But always search the channel first and second, check the FAQ (this document), most likely all your questions are already answered here.\\nYou can also tag the bot @ZoomcampQABot to help you conduct the search, but don’t rely on its answers 100%, it is pretty good though.',\n",
       "  'section': 'General course-related questions',\n",
       "  'question': 'Course - Can I get support if I take the course in the self-paced mode?',\n",
       "  'course': 'data-engineering-zoomcamp'},\n",
       " {'text': \"You don't need it. You're accepted. You can also just start learning and submitting homework without registering. It is not checked against any registered list. Registration is just to gauge interest before the start date.\",\n",
       "  'section': 'General course-related questions',\n",
       "  'question': 'Course - I have registered for the Data Engineering Bootcamp. When can I expect to receive the confirmation email?',\n",
       "  'course': 'data-engineering-zoomcamp'}]"
      ]
     },
     "execution_count": 142,
     "metadata": {},
     "output_type": "execute_result"
    }
   ],
   "source": [
    "results_doc"
   ]
  },
  {
   "cell_type": "code",
   "execution_count": 143,
   "id": "93ad47fc-5d21-4ac6-8e1b-7acf83fb253f",
   "metadata": {},
   "outputs": [],
   "source": [
    "def elastic_search(query):\n",
    "    search_query={\n",
    "    \"size\": 5,\n",
    "    \"query\": {\n",
    "        \"bool\": {\n",
    "            \"must\": {\n",
    "                \"multi_match\": {\n",
    "                    \"query\": query,\n",
    "                    \"fields\": [\"question^3\", \"text\", \"section\"],\n",
    "                    \"type\": \"best_fields\"\n",
    "                }\n",
    "            },\n",
    "            \"filter\": {\n",
    "                \"term\": {\n",
    "                    \"course\": \"data-engineering-zoomcamp\"\n",
    "                }\n",
    "            }\n",
    "        }\n",
    "    }\n",
    "}\n",
    "    response=es_client.search(index=index_name,body=search_query)\n",
    "    results_doc=[]\n",
    "    for hit in response['hits']['hits']:\n",
    "        results_doc.append(hit['_source'])\n",
    "    return results_doc\n",
    "    \n",
    "    "
   ]
  },
  {
   "cell_type": "code",
   "execution_count": 144,
   "id": "d80f1d16-6e6f-475f-8147-88d7fb46afd9",
   "metadata": {},
   "outputs": [],
   "source": [
    "query='how do i run the Kafka'\n",
    "def rag(query):\n",
    "    results=elastic_search(query)\n",
    "    prompt=build_prompt(query,results)\n",
    "    answer=llm(prompt)\n",
    "    return answer"
   ]
  },
  {
   "cell_type": "code",
   "execution_count": 145,
   "id": "2c558370-d38f-4666-99f9-b52a47eae3e4",
   "metadata": {},
   "outputs": [
    {
     "data": {
      "text/plain": [
       "\"To run Kafka producer, consumer, or kstreams in the terminal, navigate to your project directory and execute the following command:\\n\\n```bash\\njava -cp build/libs/<jar_name>-1.0-SNAPSHOT.jar:out src/main/java/org/example/JsonProducer.java\\n```\\nReplace `<jar_name>` with the appropriate name of your JAR file. This command assumes you're using Java and have already built your project.\""
      ]
     },
     "execution_count": 145,
     "metadata": {},
     "output_type": "execute_result"
    }
   ],
   "source": [
    "rag(query)"
   ]
  },
  {
   "cell_type": "code",
   "execution_count": null,
   "id": "2bbf7d9f-9cc2-4e80-a195-085f5fd5febe",
   "metadata": {},
   "outputs": [],
   "source": []
  }
 ],
 "metadata": {
  "kernelspec": {
   "display_name": "Python 3 (ipykernel)",
   "language": "python",
   "name": "python3"
  },
  "language_info": {
   "codemirror_mode": {
    "name": "ipython",
    "version": 3
   },
   "file_extension": ".py",
   "mimetype": "text/x-python",
   "name": "python",
   "nbconvert_exporter": "python",
   "pygments_lexer": "ipython3",
   "version": "3.10.13"
  }
 },
 "nbformat": 4,
 "nbformat_minor": 5
}
